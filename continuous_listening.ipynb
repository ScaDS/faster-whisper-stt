{
 "cells": [
  {
   "cell_type": "code",
   "execution_count": 1,
   "id": "ed55d6cd-5f26-4dfe-ba52-c33a0fc0ac07",
   "metadata": {},
   "outputs": [
    {
     "data": {
      "application/vnd.jupyter.widget-view+json": {
       "model_id": "14f77a5f063d49239a9461dffb176f93",
       "version_major": 2,
       "version_minor": 0
      },
      "text/plain": [
       "Textarea(value='')"
      ]
     },
     "execution_count": 1,
     "metadata": {},
     "output_type": "execute_result"
    }
   ],
   "source": [
    "### functional transcription\n",
    "\n",
    "\n",
    "# from IPython.display import display, HTML\n",
    "import sounddevice as sd\n",
    "import numpy as np\n",
    "import queue\n",
    "from scipy.io.wavfile import write\n",
    "from faster_whisper import WhisperModel\n",
    "from ipywidgets import widgets, Layout, Button, VBox, Textarea, HBox, HTML\n",
    "from IPython.display import display, Markdown\n",
    "\n",
    "# Initialisieren des Whisper-Modells\n",
    "# model = WhisperModel(\"tiny\", device=\"cuda\")\n",
    "# model = WhisperModel(\"tiny\", device=\"cpu\")\n",
    "model = WhisperModel(\"small\", device=\"cpu\")\n",
    "\n",
    "# Audioaufnahme-Einstellungen\n",
    "sample_rate = 16000  # Sampling-Rate\n",
    "audio_queue = queue.Queue()\n",
    "\n",
    "audio_data = []\n",
    "my_text = Textarea()\n",
    "\n",
    "# callbacks & fcns\n",
    "def audio_callback(indata, frames, time, status):\n",
    "    \"\"\"Diese Funktion wird von sounddevice während der Audioaufnahme aufgerufen.\"\"\"\n",
    "    audio_queue.put(indata.copy())\n",
    "\n",
    "stream = sd.InputStream(callback=audio_callback, samplerate=sample_rate, channels=1, dtype='int16')\n",
    "\n",
    "def start_recording(b=None):\n",
    "    \"\"\"Startet die Audioaufnahme.\"\"\"\n",
    "    audio_queue.queue.clear()  # Bereinigt die Queue vor der Aufnahme\n",
    "    stream.start()\n",
    "\n",
    "def interrupt_recording(b=None):\n",
    "    \"\"\"Stoppt die Audioaufnahme und startet die Transkription.\"\"\"\n",
    "    global audio_data\n",
    "    \n",
    "    stream.stop()\n",
    "\n",
    "    if len(audio_data) > 20:\n",
    "        audio_data = audio_data[-20:]\n",
    "    \n",
    "    while not audio_queue.empty():\n",
    "        audio_data.append(audio_queue.get())\n",
    "    start_recording()\n",
    "    if audio_data:\n",
    "        audio_np = np.concatenate(audio_data, axis=0)\n",
    "        write('output.wav', sample_rate, audio_np.astype(np.int16))  # Schreibt die WAV-Datei\n",
    "        transcribe_audio('output.wav')\n",
    "\n",
    "def transcribe_audio(audio_path):\n",
    "    \"\"\"Transkribiert das aufgenommene Audio.\"\"\"\n",
    "    segments, _ = model.transcribe(audio_path, language=\"de\", word_timestamps=True)\n",
    "    transcription = \" \".join([segment.text for segment in segments])\n",
    "    global my_text\n",
    "    my_text.value = transcription\n",
    "    #print(transcription) # Aktualisiert das Text-Widget mit der Transkription\n",
    "\n",
    "def reset_transcription(b):\n",
    "    \"\"\"Setzt die Transkription zurück.\"\"\"\n",
    "    text_output.value = \"\"\n",
    "\n",
    "my_text"
   ]
  },
  {
   "cell_type": "code",
   "execution_count": null,
   "id": "ef0f9f1e-9c48-467b-a6d3-b599e99e37e3",
   "metadata": {},
   "outputs": [],
   "source": [
    "\n",
    "from time import sleep\n",
    "\n",
    "start_recording()\n",
    "for i in range(100):\n",
    "    sleep(0.5)\n",
    "    interrupt_recording()\n"
   ]
  },
  {
   "cell_type": "code",
   "execution_count": null,
   "id": "24286af4-8436-4119-84de-6168a381a663",
   "metadata": {},
   "outputs": [],
   "source": []
  }
 ],
 "metadata": {
  "kernelspec": {
   "display_name": "Python 3 (ipykernel)",
   "language": "python",
   "name": "python3"
  },
  "language_info": {
   "codemirror_mode": {
    "name": "ipython",
    "version": 3
   },
   "file_extension": ".py",
   "mimetype": "text/x-python",
   "name": "python",
   "nbconvert_exporter": "python",
   "pygments_lexer": "ipython3",
   "version": "3.11.9"
  }
 },
 "nbformat": 4,
 "nbformat_minor": 5
}
